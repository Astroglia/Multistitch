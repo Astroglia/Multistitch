{
 "cells": [
  {
   "cell_type": "code",
   "execution_count": 1,
   "metadata": {},
   "outputs": [
    {
     "name": "stdout",
     "output_type": "stream",
     "text": [
      "Collecting opencv-python==3.4.2.16\n",
      "  Using cached https://files.pythonhosted.org/packages/fa/7d/5042b668a8ed41d2a80b8c172f5efcd572e3c046c75ae029407e19b7fc68/opencv_python-3.4.2.16-cp36-cp36m-manylinux1_x86_64.whl\n",
      "Requirement already satisfied: numpy>=1.11.3 in /home/markus/python-environment/lib/python3.6/site-packages (from opencv-python==3.4.2.16) (1.16.3)\n",
      "Installing collected packages: opencv-python\n",
      "Successfully installed opencv-python-3.4.2.16\n",
      "Collecting opencv-contrib-python==3.4.2.16\n",
      "  Using cached https://files.pythonhosted.org/packages/08/f1/66330f4042c4fb3b2d77a159db8e8916d9cdecc29bc8c1f56bc7f8a9bec9/opencv_contrib_python-3.4.2.16-cp36-cp36m-manylinux1_x86_64.whl\n",
      "Requirement already satisfied: numpy>=1.11.3 in /home/markus/python-environment/lib/python3.6/site-packages (from opencv-contrib-python==3.4.2.16) (1.16.3)\n",
      "Installing collected packages: opencv-contrib-python\n",
      "Successfully installed opencv-contrib-python-3.4.2.16\n"
     ]
    }
   ],
   "source": [
    "!pip install opencv-python==3.4.2.16\n",
    "\n",
    "!pip install opencv-contrib-python==3.4.2.16\n",
    "import cv2"
   ]
  },
  {
   "cell_type": "code",
   "execution_count": 2,
   "metadata": {},
   "outputs": [
    {
     "name": "stdout",
     "output_type": "stream",
     "text": [
      "Requirement already satisfied: exifread in /home/markus/python-environment/lib/python3.6/site-packages (2.1.2)\n",
      "Requirement already satisfied: piexif in /home/markus/python-environment/lib/python3.6/site-packages (1.1.2)\n"
     ]
    }
   ],
   "source": [
    "!pip install exifread\n",
    "!pip install piexif"
   ]
  },
  {
   "cell_type": "markdown",
   "metadata": {},
   "source": [
    "### Read in tiff images."
   ]
  },
  {
   "cell_type": "code",
   "execution_count": 121,
   "metadata": {},
   "outputs": [],
   "source": [
    "import cv2 as cv\n",
    "import tifffile as tffile\n",
    "\n",
    "def stitch_images(image_array):\n",
    "    stitcher = cv.createStitcher(cv.Stitcher_SCANS)\n",
    "    status, stitched_image = stitcher.stitch(image_array)\n",
    "    print(status)\n",
    "    return stitched_image\n",
    "\n",
    "def configure_metadata(dict_data):\n",
    "    for key, value in dict_data.items():\n",
    "        dict_data[key] = str(value)\n",
    "    return dict_data\n",
    "\n",
    "def save_tif(image, metadata, save_directory):\n",
    "    metadata['Width'] = image.shape[1]\n",
    "    metadata['Height'] = image.shape[0]\n",
    "    tffile.imsave(save_directory , image, metadata=dict(metadata))"
   ]
  },
  {
   "cell_type": "markdown",
   "metadata": {},
   "source": [
    "- need dialogue box for which channel to process.\n",
    "- option box for which folder to go through"
   ]
  },
  {
   "cell_type": "code",
   "execution_count": 122,
   "metadata": {},
   "outputs": [
    {
     "name": "stdout",
     "output_type": "stream",
     "text": [
      "1\n"
     ]
    },
    {
     "ename": "AttributeError",
     "evalue": "'NoneType' object has no attribute 'shape'",
     "output_type": "error",
     "traceback": [
      "\u001b[0;31m---------------------------------------------------------------------------\u001b[0m",
      "\u001b[0;31mAttributeError\u001b[0m                            Traceback (most recent call last)",
      "\u001b[0;32m<ipython-input-122-2ea2aeda0e1f>\u001b[0m in \u001b[0;36m<module>\u001b[0;34m\u001b[0m\n\u001b[1;32m     48\u001b[0m     \u001b[0moutput_stitched_image\u001b[0m \u001b[0;34m=\u001b[0m \u001b[0mstitch_images\u001b[0m\u001b[0;34m(\u001b[0m\u001b[0mtemp_img_array\u001b[0m\u001b[0;34m)\u001b[0m\u001b[0;34m\u001b[0m\u001b[0;34m\u001b[0m\u001b[0m\n\u001b[1;32m     49\u001b[0m     \u001b[0mconfigured_metadata\u001b[0m \u001b[0;34m=\u001b[0m \u001b[0mconfigure_metadata\u001b[0m\u001b[0;34m(\u001b[0m\u001b[0mtag_holder\u001b[0m\u001b[0;34m)\u001b[0m\u001b[0;34m\u001b[0m\u001b[0;34m\u001b[0m\u001b[0m\n\u001b[0;32m---> 50\u001b[0;31m     \u001b[0msave_tif\u001b[0m\u001b[0;34m(\u001b[0m\u001b[0moutput_stitched_image\u001b[0m\u001b[0;34m,\u001b[0m \u001b[0mconfigured_metadata\u001b[0m\u001b[0;34m,\u001b[0m \u001b[0msubdir\u001b[0m \u001b[0;34m+\u001b[0m \u001b[0;34m'-stitched-image.tif'\u001b[0m\u001b[0;34m)\u001b[0m\u001b[0;34m\u001b[0m\u001b[0;34m\u001b[0m\u001b[0m\n\u001b[0m\u001b[1;32m     51\u001b[0m \u001b[0;34m\u001b[0m\u001b[0m\n\u001b[1;32m     52\u001b[0m \u001b[0mplt\u001b[0m\u001b[0;34m.\u001b[0m\u001b[0mimshow\u001b[0m\u001b[0;34m(\u001b[0m\u001b[0mtemp_img_array\u001b[0m\u001b[0;34m[\u001b[0m\u001b[0;36m3\u001b[0m\u001b[0;34m]\u001b[0m\u001b[0;34m)\u001b[0m\u001b[0;34m\u001b[0m\u001b[0;34m\u001b[0m\u001b[0m\n",
      "\u001b[0;32m<ipython-input-121-3065605fe110>\u001b[0m in \u001b[0;36msave_tif\u001b[0;34m(image, metadata, save_directory)\u001b[0m\n\u001b[1;32m     14\u001b[0m \u001b[0;34m\u001b[0m\u001b[0m\n\u001b[1;32m     15\u001b[0m \u001b[0;32mdef\u001b[0m \u001b[0msave_tif\u001b[0m\u001b[0;34m(\u001b[0m\u001b[0mimage\u001b[0m\u001b[0;34m,\u001b[0m \u001b[0mmetadata\u001b[0m\u001b[0;34m,\u001b[0m \u001b[0msave_directory\u001b[0m\u001b[0;34m)\u001b[0m\u001b[0;34m:\u001b[0m\u001b[0;34m\u001b[0m\u001b[0;34m\u001b[0m\u001b[0m\n\u001b[0;32m---> 16\u001b[0;31m     \u001b[0mmetadata\u001b[0m\u001b[0;34m[\u001b[0m\u001b[0;34m'Width'\u001b[0m\u001b[0;34m]\u001b[0m \u001b[0;34m=\u001b[0m \u001b[0mimage\u001b[0m\u001b[0;34m.\u001b[0m\u001b[0mshape\u001b[0m\u001b[0;34m[\u001b[0m\u001b[0;36m1\u001b[0m\u001b[0;34m]\u001b[0m\u001b[0;34m\u001b[0m\u001b[0;34m\u001b[0m\u001b[0m\n\u001b[0m\u001b[1;32m     17\u001b[0m     \u001b[0mmetadata\u001b[0m\u001b[0;34m[\u001b[0m\u001b[0;34m'Height'\u001b[0m\u001b[0;34m]\u001b[0m \u001b[0;34m=\u001b[0m \u001b[0mimage\u001b[0m\u001b[0;34m.\u001b[0m\u001b[0mshape\u001b[0m\u001b[0;34m[\u001b[0m\u001b[0;36m0\u001b[0m\u001b[0;34m]\u001b[0m\u001b[0;34m\u001b[0m\u001b[0;34m\u001b[0m\u001b[0m\n\u001b[1;32m     18\u001b[0m     \u001b[0mtffile\u001b[0m\u001b[0;34m.\u001b[0m\u001b[0mimsave\u001b[0m\u001b[0;34m(\u001b[0m\u001b[0msave_directory\u001b[0m \u001b[0;34m,\u001b[0m \u001b[0mimage\u001b[0m\u001b[0;34m,\u001b[0m \u001b[0mmetadata\u001b[0m\u001b[0;34m=\u001b[0m\u001b[0mdict\u001b[0m\u001b[0;34m(\u001b[0m\u001b[0mmetadata\u001b[0m\u001b[0;34m)\u001b[0m\u001b[0;34m)\u001b[0m\u001b[0;34m\u001b[0m\u001b[0;34m\u001b[0m\u001b[0m\n",
      "\u001b[0;31mAttributeError\u001b[0m: 'NoneType' object has no attribute 'shape'"
     ]
    }
   ],
   "source": [
    "import glob\n",
    "import sys\n",
    "import pandas as pd\n",
    "import os\n",
    "import cv2\n",
    "\n",
    "from matplotlib import pyplot as plt\n",
    "%matplotlib inline \n",
    "import pandas \n",
    "import csv\n",
    "import numpy as np\n",
    "import matplotlib.pyplot as plt\n",
    "\n",
    "import sys\n",
    "import os\n",
    "\n",
    "from PIL import Image\n",
    "from PIL.TiffTags import TAGS\n",
    "import exifread\n",
    "import tifffile as tffile\n",
    "\n",
    "image_dir = '/home/markus/ganglion_portions_2'\n",
    "\n",
    "##Holds all the images for stitching\n",
    "img_array = []\n",
    "\n",
    "tag_holder = ''\n",
    "for subdir, dirs, files in os.walk(image_dir):\n",
    "    #ignore hidden folders\n",
    "    files = [f for f in files if not f[0] == '.']\n",
    "    dirs[:] = [d for d in dirs if not d[0] == '.']\n",
    "    \n",
    "    ###### Get all image files in one directory and then process after you get them.\n",
    "    temp_img_array = []\n",
    "    \n",
    "    for file in files:\n",
    "        curr_image = cv2.imread(subdir + '/' + file)\n",
    "        \n",
    "        ## Modify to the wanted channel\n",
    "      #  curr_image = curr_image[:,:,0]\n",
    "        fd = open(subdir + '/' + file, 'rb')\n",
    "        tags = exifread.process_file(fd)\n",
    "        tag_holder = tags\n",
    "        temp_img_array.append(curr_image)\n",
    "        img_array.append(curr_image)\n",
    "    \n",
    "    ##Now, PROCESS\n",
    "    output_stitched_image = stitch_images(temp_img_array)\n",
    "    configured_metadata = configure_metadata(tag_holder)\n",
    "    save_tif(output_stitched_image, configured_metadata, subdir + '-stitched-image.tif')\n",
    "\n",
    "plt.imshow(temp_img_array[3])"
   ]
  },
  {
   "cell_type": "markdown",
   "metadata": {},
   "source": [
    "### Stitch the images together."
   ]
  },
  {
   "cell_type": "code",
   "execution_count": null,
   "metadata": {},
   "outputs": [],
   "source": [
    "import cv2 as cv\n",
    "import numpy as np\n",
    "import sys\n",
    "import json \n",
    "\n",
    "#modes = (cv.Stitcher_PANORAMA, cv.Stitcher_SCANS) \n",
    "stitcher = cv.createStitcher(cv.Stitcher_PANORAMA)\n",
    "status, stitched_image = stitcher.stitch(img_array)\n",
    "#show the image\n",
    "print(stitched_image.shape)\n",
    "#write image to file\n",
    "from PIL import Image\n",
    "final_image = Image.fromarray(stitched_image)\n",
    "tag_holder['Image ImageWidth'] = stitched_image.shape[1]\n",
    "tag_holder['Image ImageHeight'] = stitched_image.shape[0]\n",
    "str_tag = json.dumps(str(tag_holder))\n",
    "JSON_tag =  json.loads(str_tag)\n",
    "print(type(tag_holder))\n",
    "print(type(JSON_tag))"
   ]
  },
  {
   "cell_type": "markdown",
   "metadata": {},
   "source": [
    "#### Create info to make tiff file."
   ]
  },
  {
   "cell_type": "code",
   "execution_count": 67,
   "metadata": {},
   "outputs": [],
   "source": [
    "IMG_TAGS = {}\n",
    "for key, value in tag_holder.items():\n",
    "    tag_holder[key] = str(value)"
   ]
  },
  {
   "cell_type": "code",
   "execution_count": 63,
   "metadata": {},
   "outputs": [
    {
     "name": "stdout",
     "output_type": "stream",
     "text": [
      "\"{'Image SubfileType': (0x00FE) Long=Full-resolution Image @ 18, 'Image ImageWidth': 1557, 'Image ImageLength': (0x0101) Short=808 @ 42, 'Image BitsPerSample': (0x0102) Short=[8, 8, 8] @ 206, 'Image Compression': (0x0103) Short=Uncompressed @ 66, 'Image PhotometricInterpretation': (0x0106) Short=2 @ 78, 'Image StripOffsets': (0x0111) Long=[496, 65860, 131224, 196588, 261952, 327316, 392680, 458044, 523408, 588772, 654136, 719500, 784864, 850228, 915592, 980956, 1046320, 1111684, 1177048, 1242412, 1307776, 1373140, 1438504, 1503868, 1569232, 1634596, 1699960, 1765324, 1830688, 1896052, 1961416, 2026780] @ 212, 'Image SamplesPerPixel': (0x0115) Short=3 @ 102, 'Image RowsPerStrip': (0x0116) Short=26 @ 114, 'Image StripByteCounts': (0x0117) Long=[65364, 65364, 65364, 65364, 65364, 65364, 65364, 65364, 65364, 65364, 65364, 65364, 65364, 65364, 65364, 65364, 65364, 65364, 65364, 65364, 65364, 65364, 65364, 65364, 65364, 65364, 65364, 65364, 65364, 65364, 65364, 5028] @ 340, 'Image MinSampleValue': (0x0118) Short=[0, 0, 0] @ 468, 'Image MaxSampleValue': (0x0119) Short=[4095, 4095, 4095] @ 474, 'Image XResolution': (0x011A) Ratio=1 @ 480, 'Image YResolution': (0x011B) Ratio=1 @ 488, 'Image PlanarConfiguration': (0x011C) Short=1 @ 186, 'Image ResolutionUnit': (0x0128) Short=Not Absolute @ 198, 'Image ImageHeight': 1722}\"\n"
     ]
    },
    {
     "ename": "AttributeError",
     "evalue": "'dict' object has no attribute 'decode'",
     "output_type": "error",
     "traceback": [
      "\u001b[0;31m---------------------------------------------------------------------------\u001b[0m",
      "\u001b[0;31mAttributeError\u001b[0m                            Traceback (most recent call last)",
      "\u001b[0;32m<ipython-input-63-1aea0a8dc8ab>\u001b[0m in \u001b[0;36m<module>\u001b[0;34m\u001b[0m\n\u001b[1;32m      5\u001b[0m \u001b[0;34m\u001b[0m\u001b[0m\n\u001b[1;32m      6\u001b[0m \u001b[0mfinal_image\u001b[0m\u001b[0;34m.\u001b[0m\u001b[0mtag\u001b[0m \u001b[0;34m=\u001b[0m \u001b[0mtag_holder\u001b[0m\u001b[0;34m\u001b[0m\u001b[0;34m\u001b[0m\u001b[0m\n\u001b[0;32m----> 7\u001b[0;31m \u001b[0mfinal_image\u001b[0m\u001b[0;34m.\u001b[0m\u001b[0mtag\u001b[0m \u001b[0;34m=\u001b[0m \u001b[0mjson\u001b[0m\u001b[0;34m.\u001b[0m\u001b[0mloads\u001b[0m\u001b[0;34m(\u001b[0m\u001b[0mtag_holder\u001b[0m\u001b[0;34m.\u001b[0m\u001b[0mdecode\u001b[0m\u001b[0;34m(\u001b[0m\u001b[0;34m'utf-8'\u001b[0m\u001b[0;34m)\u001b[0m\u001b[0;34m)\u001b[0m\u001b[0;34m\u001b[0m\u001b[0;34m\u001b[0m\u001b[0m\n\u001b[0m\u001b[1;32m      8\u001b[0m \u001b[0mprint\u001b[0m\u001b[0;34m(\u001b[0m\u001b[0mfinal_image\u001b[0m\u001b[0;34m.\u001b[0m\u001b[0mtag\u001b[0m\u001b[0;34m)\u001b[0m\u001b[0;34m\u001b[0m\u001b[0;34m\u001b[0m\u001b[0m\n\u001b[1;32m      9\u001b[0m \u001b[0mfinal_image\u001b[0m\u001b[0;34m.\u001b[0m\u001b[0msave\u001b[0m\u001b[0;34m(\u001b[0m\u001b[0;34m'output.tif'\u001b[0m\u001b[0;34m,\u001b[0m \u001b[0mtiffinfo\u001b[0m\u001b[0;34m=\u001b[0m\u001b[0mtag_holder\u001b[0m\u001b[0;34m)\u001b[0m\u001b[0;34m\u001b[0m\u001b[0;34m\u001b[0m\u001b[0m\n",
      "\u001b[0;31mAttributeError\u001b[0m: 'dict' object has no attribute 'decode'"
     ]
    }
   ],
   "source": [
    "\n",
    "print(str_tag)\n",
    "\n",
    "tffile.imsave('ahh.tif',stitched_image, metadata=dict(tag_holder))\n",
    "\n",
    "#final_image.tag = tag_holder\n",
    "#final_image.tag = json.loads(tag_holder.decode('utf-8'))\n",
    "#print(final_image.tag)\n",
    "final_image.save('output.tif', tiffinfo=tag_holder)\n",
    "\n",
    "#cv2.imwrite('test.tif', stitched_image)\n",
    "#print(\"stitching completed successfully. %s saved!\" % args.output)"
   ]
  },
  {
   "cell_type": "code",
   "execution_count": null,
   "metadata": {},
   "outputs": [],
   "source": []
  }
 ],
 "metadata": {
  "kernelspec": {
   "display_name": "Python 3",
   "language": "python",
   "name": "python3"
  },
  "language_info": {
   "codemirror_mode": {
    "name": "ipython",
    "version": 3
   },
   "file_extension": ".py",
   "mimetype": "text/x-python",
   "name": "python",
   "nbconvert_exporter": "python",
   "pygments_lexer": "ipython3",
   "version": "3.6.7"
  }
 },
 "nbformat": 4,
 "nbformat_minor": 2
}
